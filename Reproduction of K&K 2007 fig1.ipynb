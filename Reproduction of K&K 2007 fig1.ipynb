{
 "cells": [
  {
   "cell_type": "code",
   "execution_count": 1,
   "id": "8363d60a",
   "metadata": {},
   "outputs": [
    {
     "name": "stderr",
     "output_type": "stream",
     "text": [
      "/Users/haoyushen/opt/anaconda3/lib/python3.9/site-packages/scipy/__init__.py:155: UserWarning: A NumPy version >=1.18.5 and <1.25.0 is required for this version of SciPy (detected version 1.26.4\n",
      "  warnings.warn(f\"A NumPy version >={np_minversion} and <{np_maxversion}\"\n"
     ]
    }
   ],
   "source": [
    "import pandas as pd\n",
    "import numpy as np\n",
    "import matplotlib.pyplot as plt\n",
    "from matplotlib.ticker import MultipleLocator, FormatStrFormatter\n",
    "import pandas as pd\n",
    "import pandas as pd\n",
    "import numpy as np\n",
    "from scipy.interpolate import griddata\n",
    "from astropy import units as u\n",
    "from astropy import constants as c"
   ]
  },
  {
   "cell_type": "code",
   "execution_count": 2,
   "id": "ed60c7ee",
   "metadata": {},
   "outputs": [
    {
     "name": "stdout",
     "output_type": "stream",
     "text": [
      "   Seq           Name           T0 n_T0      e_T0           Ps         e_Ps  \\\n",
      "0                                d              d            d            d   \n",
      "1  ---  -------------  -----------    -  --------  -----------  -----------   \n",
      "2    1  BW Aqr         44545.52150        0.00060   6.71969500                \n",
      "3    2  V871 Aql       38637.14890        0.00090   2.95266980   0.00000120   \n",
      "4    3  V889 Aql       38241.74390        0.00060  11.12079370   0.00000250   \n",
      "\n",
      "            Pa         e_Pa l_e  ...      DEJ2000    mag   Dmag Filt  \\\n",
      "0            d            d      ...        d:m:s    mag    mag        \n",
      "1  -----------  -----------   -  ...  -----------  -----  -----   --   \n",
      "2   6.71971200   0.00000300      ...  -15 19 56.1  10.86   0.46   Hp   \n",
      "3   2.95276330   0.00000120      ...  -03 09 28.0  13.30   1.20   P    \n",
      "4  11.12080760   0.00000250      ...  +16 15 00.0   8.52   0.58   V    \n",
      "\n",
      "             SpType        Type   Ref1  Simbad logk2,1 logk2,2  \n",
      "0                                            0                  \n",
      "1  ----------------  ----------  -----  ------  ------  ------  \n",
      "2  F8IV+F7IV         EA/DM       1, 2   Simbad  -2.200  -2.200  \n",
      "3  G2                EA          3      Simbad                  \n",
      "4  B9                EA/DM       3      Simbad  -2.316  -2.316  \n",
      "\n",
      "[5 rows x 51 columns]\n",
      "Index(['Seq', 'Name', 'T0', 'n_T0', 'e_T0', 'Ps', 'e_Ps', 'Pa', 'e_Pa', 'l_e',\n",
      "       'e', 'e_e', 'omega', 'e_omega', 'n_U', 'l_U', 'U', 'e_U', 'logk2',\n",
      "       'e_logk2', 'Ref2', 'M1', 'e_M1', 'M2', 'e_M2', 'R1', 'e_R1', 'R2',\n",
      "       'e_R2', 'T1', 'e_T1', 'T2', 'e_T2', 'logg1', 'e_logg1', 'logg2',\n",
      "       'e_logg2', 'Ref4', 'HD', 'HIP', 'RAJ2000', 'DEJ2000', 'mag', 'Dmag',\n",
      "       'Filt', 'SpType', 'Type', 'Ref1', 'Simbad', 'logk2,1', 'logk2,2'],\n",
      "      dtype='object')\n"
     ]
    }
   ],
   "source": [
    "file_path = \"/Users/haoyushen/Desktop/research UTD Tidal Dissipation /data/data from new catalouge of EBs.tsv\"   # adjust as needed\n",
    "df_1 = pd.read_csv(\n",
    "    file_path,\n",
    "    sep=\"|\",\n",
    "    engine=\"python\",\n",
    "    comment=\"#\",\n",
    "    na_values=[\"\", \"na\", \"null\"]\n",
    ")\n",
    "df_1 = df_1.fillna(0)\n",
    "df_1['logk2,1'] = df_1['logk2']\n",
    "df_1['logk2,2'] = df_1['logk2']\n",
    "print(df_1.head())\n",
    "print(df_1.columns)"
   ]
  },
  {
   "cell_type": "code",
   "execution_count": 99,
   "id": "41995f57",
   "metadata": {},
   "outputs": [
    {
     "data": {
      "text/plain": [
       "Index(['Zini', 'MH', 'logAge', 'Mini', 'int_IMF', 'Mass', 'logL', 'logTe',\n",
       "       'logg', 'label', 'McoreTP', 'C_O', 'period0', 'period1', 'period2',\n",
       "       'period3', 'period4', 'pmode', 'Mloss', 'tau1m', 'X', 'Y', 'Xc', 'Xn',\n",
       "       'Xo', 'Cexcess', 'Z', 'mbolmag', 'Umag', 'Bmag', 'Vmag', 'Rmag', 'Imag',\n",
       "       'Jmag', 'Hmag', 'Kmag'],\n",
       "      dtype='object')"
      ]
     },
     "execution_count": 99,
     "metadata": {},
     "output_type": "execute_result"
    }
   ],
   "source": [
    "iso_df.columns"
   ]
  },
  {
   "cell_type": "code",
   "execution_count": 95,
   "id": "cb465dac",
   "metadata": {},
   "outputs": [],
   "source": [
    "iso_df = pd.read_csv('/Users/haoyushen/Desktop/research UTD Tidal Dissipation /data/isochrone table.csv')"
   ]
  },
  {
   "cell_type": "code",
   "execution_count": 97,
   "id": "1e2fb0e6",
   "metadata": {},
   "outputs": [],
   "source": [
    "fs_df = pd.read_excel('/Users/haoyushen/Desktop/research UTD Tidal Dissipation /data/data 54 systems.xlsx')"
   ]
  },
  {
   "cell_type": "code",
   "execution_count": null,
   "id": "9ea9378b",
   "metadata": {},
   "outputs": [],
   "source": [
    "for col in ['T1','T2','logg1','logg2']:\n",
    "    fs_df[col] = pd.to_numeric(fs_df[col], errors='coerce')\n",
    "\n",
    "# compute log10 temperatures\n",
    "fs_df['logT1'] = np.log10(fs_df['T1'])\n",
    "fs_df['logT2'] = np.log10(fs_df['T2'])\n",
    "\n",
    "# coerce the isochrone grid columns to numeric as well\n",
    "for col in ['logTe','Mass']:\n",
    "    iso_df[col] = pd.to_numeric(iso_df[col], errors='coerce')\n",
    "pts = iso_df[['logTe']].dropna().values\n",
    "mass_vals = iso_df.dropna(subset=['logTe','Mass'])['Mass'].values\n"
   ]
  },
  {
   "cell_type": "code",
   "execution_count": 4,
   "id": "8a95aa5e",
   "metadata": {},
   "outputs": [
    {
     "name": "stdout",
     "output_type": "stream",
     "text": [
      "Index(['Name', 'Ps', 'M1', 'M2', 'R1', 'R2', 'logg1', 'logg2', 'r1', 'r2', 'e',\n",
      "       'U', 'logk2,1', 'logk2,2', 'logm1', 'logm2', 'T1', 'T2'],\n",
      "      dtype='object')\n"
     ]
    }
   ],
   "source": [
    "KKdf = pd.read_excel('/Users/haoyushen/Desktop/research UTD Tidal Dissipation /data/K&K data.xlsx')\n",
    "KKdf = KKdf.drop(columns = ['Seq'])\n",
    "KKdf['T1'] = (10**KKdf['logT1']).values\n",
    "KKdf['T2'] = (10**KKdf['logT2']).values\n",
    "KKdf = KKdf.drop(columns = ['logT1'])\n",
    "KKdf = KKdf.drop(columns = ['logT2'])\n",
    "print(KKdf.columns)"
   ]
  },
  {
   "cell_type": "code",
   "execution_count": null,
   "id": "2d677691",
   "metadata": {},
   "outputs": [],
   "source": []
  },
  {
   "cell_type": "code",
   "execution_count": 6,
   "id": "bb7ee5bf",
   "metadata": {},
   "outputs": [],
   "source": [
    "df = pd.concat([df_1, KKdf], ignore_index=True, sort=False)"
   ]
  },
  {
   "cell_type": "code",
   "execution_count": 94,
   "id": "f070d67a",
   "metadata": {},
   "outputs": [],
   "source": []
  },
  {
   "cell_type": "code",
   "execution_count": 93,
   "id": "a2eef65c",
   "metadata": {},
   "outputs": [],
   "source": [
    "for col in ['T1','T2','logg1','logg2']:\n",
    "    df[col] = pd.to_numeric(df[col], errors='coerce')\n",
    "\n",
    "# compute log10 temperatures\n",
    "df['logT1'] = np.log10(df['T1'])\n",
    "df['logT2'] = np.log10(df['T2'])\n",
    "\n",
    "# coerce the isochrone grid columns to numeric as well\n",
    "for col in ['logg','logTe','logAge','MH']:\n",
    "    iso_df[col] = pd.to_numeric(iso_df[col], errors='coerce')\n",
    "\n",
    "# build interpolation arrays from the full grid\n",
    "pts      = iso_df[['logg','logTe']].dropna().values\n",
    "age_vals = iso_df.dropna(subset=['logg','logTe','logAge'])['logAge'].values\n",
    "mh_vals  = iso_df.dropna(subset=['logg','logTe','MH'])['MH'].values\n",
    "\n",
    "# query points from your catalogue (T1 & T2 pairs)\n",
    "orig1 = df[['logg1','logT1']].values\n",
    "orig2 = df[['logg2','logT2']].values\n",
    "\n",
    "# do the interpolation\n",
    "df['logAge_interp_1'] = griddata(pts, age_vals, orig1, method='linear')\n",
    "df['logAge_interp_2'] = griddata(pts, age_vals, orig2, method='linear')\n",
    "df['MH_interp_1']     = griddata(pts, mh_vals,  orig1, method='linear')\n",
    "df['MH_interp_2']     = griddata(pts, mh_vals,  orig2, method='linear')\n",
    "\n",
    "# average the two estimates\n",
    "df['logAge'] = df[['logAge_interp_1','logAge_interp_2']].mean(axis=1)\n",
    "df['MH']     = df[['MH_interp_1','MH_interp_2']].mean(axis=1)\n"
   ]
  },
  {
   "cell_type": "code",
   "execution_count": null,
   "id": "2e1edf1b",
   "metadata": {},
   "outputs": [],
   "source": []
  },
  {
   "cell_type": "code",
   "execution_count": 92,
   "id": "91df761f",
   "metadata": {},
   "outputs": [
    {
     "name": "stdout",
     "output_type": "stream",
     "text": [
      "Index(['Seq', 'Name', 'T0', 'n_T0', 'e_T0', 'Ps', 'e_Ps', 'Pa', 'e_Pa', 'l_e',\n",
      "       'e', 'e_e', 'omega', 'e_omega', 'n_U', 'l_U', 'U', 'e_U', 'logk2',\n",
      "       'e_logk2', 'Ref2', 'M1', 'e_M1', 'M2', 'e_M2', 'R1', 'e_R1', 'R2',\n",
      "       'e_R2', 'T1', 'e_T1', 'T2', 'e_T2', 'logg1', 'e_logg1', 'logg2',\n",
      "       'e_logg2', 'Ref4', 'HD', 'HIP', 'RAJ2000', 'DEJ2000', 'mag', 'Dmag',\n",
      "       'Filt', 'SpType', 'Type', 'Ref1', 'Simbad', 'logk2,1', 'logk2,2', 'r1',\n",
      "       'r2', 'logm1', 'logm2', 'logT1', 'logT2', 'logAge_interp_1',\n",
      "       'logAge_interp_2', 'MH_interp_1', 'MH_interp_2', 'logAge', 'MH'],\n",
      "      dtype='object')\n"
     ]
    }
   ],
   "source": [
    "print(df.columns)"
   ]
  },
  {
   "cell_type": "code",
   "execution_count": 10,
   "id": "996bc269",
   "metadata": {
    "scrolled": true
   },
   "outputs": [],
   "source": [
    "#Strings to numeric number\n",
    "for col in [\"U\", \"Ps\", \"e_Ps\", \"e\", \"e_e\",\"e_U\",'M1', 'e_M1', 'M2', 'e_M2','MH','logAge','R1','R2', 'logk2,1', 'logk2,2']:\n",
    "    df[col] = pd.to_numeric(df[col], errors=\"coerce\")   # bad entries → NaN"
   ]
  },
  {
   "cell_type": "code",
   "execution_count": 11,
   "id": "70299094",
   "metadata": {},
   "outputs": [
    {
     "name": "stdout",
     "output_type": "stream",
     "text": [
      "Index(['Seq', 'Name', 'T0', 'n_T0', 'e_T0', 'Ps', 'e_Ps', 'Pa', 'e_Pa', 'l_e',\n",
      "       'e', 'e_e', 'omega', 'e_omega', 'n_U', 'l_U', 'U', 'e_U', 'logk2',\n",
      "       'e_logk2', 'Ref2', 'M1', 'e_M1', 'M2', 'e_M2', 'R1', 'e_R1', 'R2',\n",
      "       'e_R2', 'T1', 'e_T1', 'T2', 'e_T2', 'logg1', 'e_logg1', 'logg2',\n",
      "       'e_logg2', 'Ref4', 'HD', 'HIP', 'RAJ2000', 'DEJ2000', 'mag', 'Dmag',\n",
      "       'Filt', 'SpType', 'Type', 'Ref1', 'Simbad', 'logk2,1', 'logk2,2', 'r1',\n",
      "       'r2', 'logm1', 'logm2', 'logT1', 'logT2', 'logAge_interp_1',\n",
      "       'logAge_interp_2', 'MH_interp_1', 'MH_interp_2', 'logAge', 'MH'],\n",
      "      dtype='object')\n"
     ]
    }
   ],
   "source": [
    "print(df.columns)"
   ]
  },
  {
   "cell_type": "code",
   "execution_count": 12,
   "id": "7ae0f589",
   "metadata": {},
   "outputs": [],
   "source": [
    "#Get semimajoraxis from Kepler's Law\n",
    "def semimajoraxis(M1, M2, Ps):\n",
    "    a = (c.G*(M1+M2)*Ps**2/(4*np.pi**2))**(1/3)\n",
    "    return a"
   ]
  },
  {
   "cell_type": "code",
   "execution_count": 13,
   "id": "20c15367",
   "metadata": {},
   "outputs": [],
   "source": [
    "#classical relativistic term (eq.3)\n",
    "def PU_rel(M1,M2,a,e):\n",
    "    P_Urel = (3*c.G*(M1+M2)) / (c.c**2 * a * (1 - e**2))\n",
    "    return P_Urel"
   ]
  },
  {
   "cell_type": "code",
   "execution_count": 14,
   "id": "c3286dd8",
   "metadata": {},
   "outputs": [],
   "source": [
    "#Reverse the order of mass and radius for different star in a system and add them up\n",
    "#tidal contribution (eq.7–10)\n",
    "def P_Utide(M1, M2, e, R, k2, a):\n",
    "    f_e = (1 + 1.5*e**2 + 0.125*e**4) / (1 - e**2)**5\n",
    "    Ct = (R/a)**5 * (M2/M1) * 15 * f_e\n",
    "    return k2*Ct"
   ]
  },
  {
   "cell_type": "code",
   "execution_count": 74,
   "id": "f88b563d",
   "metadata": {},
   "outputs": [],
   "source": [
    "#net rotational term P/U_rot  (eq.13)\n",
    "'''\n",
    "def P_Urot(P, U, P_Urel, P_Utide):\n",
    "    P_Uobs = P / U\n",
    "    P_Urot = P_Uobs - P_Urel - P_Utide\n",
    "    return P_Urot\n",
    "'''\n",
    "def P_Urot(e, P, k2, R, a, M1, M2):\n",
    "    g = (1 - e**2)**(-2)\n",
    "    w_r = 2*np.pi/P\n",
    "    w_k = 2*np.pi/P\n",
    "    return k2 * (R/a)**5*(1+M2/M1)*g*(w_r/w_k)**2"
   ]
  },
  {
   "cell_type": "code",
   "execution_count": 75,
   "id": "544876dc",
   "metadata": {},
   "outputs": [],
   "source": [
    "#apsidal‐motion coefficients Ai (eq.12 & 14)\n",
    "#Again, Reverse the order of mass and radius for different star in a system and add them up\n",
    "def apsidal_motion_coeff(k2, e, R, M1, M2):\n",
    "    g_e = (1 - e**2)**(-2)\n",
    "    return k2 * (R/a)**5 * (1 + M2/M1) * g_e"
   ]
  },
  {
   "cell_type": "code",
   "execution_count": 76,
   "id": "8cefe57d",
   "metadata": {},
   "outputs": [],
   "source": [
    "#x components\n",
    "def x_sys(P_Urot, A_sum, M2, M1, R1, a):\n",
    "    Z = P_Urot / A_sum\n",
    "    mask2 = (Z > 0) & np.isfinite(Z)\n",
    "    Z = Z[mask2]\n",
    "    E2 = 1.0\n",
    "    β = 0.1\n",
    "    q1 = M2/M1\n",
    "    tsyn1 = (1.0 /((525/3)*q1**2*(1+q1)**(5/6)*E2)* np.sqrt(R1**3/(c.G*M1))*β**2*(a/R1)**(17/2))\n",
    "    return (age[mask2] / tsyn1[mask2])"
   ]
  },
  {
   "cell_type": "code",
   "execution_count": 77,
   "id": "adb0d70b",
   "metadata": {},
   "outputs": [],
   "source": [
    "#y components\n",
    "def w_rsyn(P_Urot, A_sum, e, P):\n",
    "    Z = P_Urot / A_sum\n",
    "    mask2 = (Z > 0) & np.isfinite(Z)\n",
    "    Z = Z[mask2]\n",
    "    wk = 2*np.pi / P[mask2]\n",
    "    wsyn = wk * ((1+1.5*e[mask2]**2+0.625*e[mask2]**4)/((1+3*e[mask2]**2+0.375*e[mask2]**4)*(1-e[mask2]**2)**1.5))\n",
    "    wr_ok = np.sqrt(Z)\n",
    "    return wr_ok / (wsyn/wk)"
   ]
  },
  {
   "cell_type": "code",
   "execution_count": 78,
   "id": "f8bc419a",
   "metadata": {},
   "outputs": [],
   "source": [
    "def new_x(a, R1, R2, P_Urot, A_sum):\n",
    "    Z = P_Urot / A_sum\n",
    "    mask2 = (Z > 0) & np.isfinite(Z)\n",
    "    return (a/(R1+R2))[mask2]"
   ]
  },
  {
   "cell_type": "code",
   "execution_count": null,
   "id": "997a4c56",
   "metadata": {},
   "outputs": [],
   "source": []
  },
  {
   "cell_type": "code",
   "execution_count": 79,
   "id": "b62a1c55",
   "metadata": {},
   "outputs": [],
   "source": [
    "#Set up\n",
    "req = ['M1','M2','R1','R2','Ps','U','e','logAge','logk2,1', 'logk2,2']\n",
    "dfc = df.dropna(subset=req)\n",
    "mask = ((dfc['M1']>0)&(dfc['M2']>0)&(dfc['R1']>0)&(dfc['R2']>0)&(dfc['Ps']>0)&(dfc['U']>0)&\n",
    "        (dfc['e']>=0)&(dfc['e']<1))\n",
    "dfc = dfc[mask].reset_index(drop=True)"
   ]
  },
  {
   "cell_type": "code",
   "execution_count": 80,
   "id": "15a7282b",
   "metadata": {},
   "outputs": [],
   "source": [
    "M1 = dfc['M1'].to_numpy()\n",
    "M2 = dfc['M2'].to_numpy()\n",
    "R1 = dfc['R1'].to_numpy()\n",
    "R2 = dfc['R2'].to_numpy()\n",
    "P  = dfc['Ps'].to_numpy()\n",
    "U  = dfc['U'].to_numpy()\n",
    "e  = dfc['e'].to_numpy()\n",
    "age= 10**dfc['logAge']*u.yr\n",
    "k21 = (10**dfc['logk2,1']).values\n",
    "k22 = (10**dfc['logk2,2']).values"
   ]
  },
  {
   "cell_type": "code",
   "execution_count": 81,
   "id": "188973b9",
   "metadata": {},
   "outputs": [],
   "source": [
    "def get_Usyn(P, P_Urel, P_Utide, P_Urot, A_sum):\n",
    "    # Ensure P has unit\n",
    "    Pq = P * u.day if not hasattr(P, \"unit\") else P.to(u.day)\n",
    "    # Sum the three contributions\n",
    "    denom = P_Urel + P_Utide + P_Urot\n",
    "    # If denom already has a unit, use it; if not use day/yr\n",
    "    if hasattr(denom, \"unit\"):\n",
    "        denom_q = denom\n",
    "    else:\n",
    "        denom_q = denom * (u.day / u.yr)\n",
    "    # Equation:  P / U_syn = P/U_rel + P/U_tide + P/U_rot\n",
    "    Usyn = Pq / denom_q\n",
    "    Z = P_Urot / A_sum\n",
    "    mask2 = (Z > 0) & np.isfinite(Z)\n",
    "    U_syn = Usyn.to(u.yr)\n",
    "    return U_syn[mask2]"
   ]
  },
  {
   "cell_type": "code",
   "execution_count": 100,
   "id": "9a98e2ca",
   "metadata": {},
   "outputs": [],
   "source": [
    "a = semimajoraxis(M1*u.M_sun, M2*u.M_sun, P*u.day)\n",
    "PUrel = PU_rel(M1*u.M_sun, M2*u.M_sun, a, e)\n",
    "Urel = (PUrel/(P*u.day))**-1\n",
    "PUtide = (P_Utide(M1*u.M_sun, M2*u.M_sun, e, R1*u.R_sun, k21, a)+P_Utide(M2*u.M_sun, \n",
    "                                                                               M1*u.M_sun, e, R2*u.R_sun, k22,\n",
    "                                                                               a))\n",
    "Utide = (PUtide/(P*u.day))**-1\n",
    "PUrot = (P_Urot(e, P, k21, R1*u.R_sun, a, M1*u.M_sun, M2*u.M_sun) + \n",
    "         P_Urot(e, P, k22, R2*u.R_sun, a, M2*u.M_sun, M1*u.M_sun))\n",
    "Urot = (PUrot/(P*u.day))**-1\n",
    "Asum = (apsidal_motion_coeff(k21, e, R1*u.R_sun, M1*u.M_sun, M2*u.M_sun)+apsidal_motion_coeff(k22, e, R2*u.R_sun, \n",
    "                                                                                             M2*u.M_sun, \n",
    "                                                                                             M1*u.M_sun))\n",
    "Z = PUrot / Asum\n",
    "mask2 = (Z > 0) & np.isfinite(Z)\n",
    "xsys = x_sys(PUrot, Asum, M2*u.M_sun, M1*u.M_sun, R1*u.R_sun, a).values\n",
    "wrsyn = w_rsyn(PUrot, Asum, e, P*u.day).to_value('')\n",
    "Usyn = get_Usyn(P, PUrel, PUtide, PUrot, Asum)\n",
    "U_Usyn = ((U[mask2]*u.year)/Usyn)"
   ]
  },
  {
   "cell_type": "code",
   "execution_count": null,
   "id": "e63e4db6",
   "metadata": {},
   "outputs": [],
   "source": []
  },
  {
   "cell_type": "code",
   "execution_count": 84,
   "id": "07bb7fdf",
   "metadata": {},
   "outputs": [
    {
     "data": {
      "text/plain": [
       "<bound method DataFrame.count of     Seq           Name           T0 n_T0      e_T0         Ps      e_Ps  \\\n",
       "0     1  BW Aqr         44545.52150        0.00060   6.719695       NaN   \n",
       "1     3  V889 Aql       38241.74390        0.00060  11.120794  0.000003   \n",
       "2     4  V539 Ara       45056.74590        0.00070   3.169085  0.000001   \n",
       "3     6  HP Aur         46353.23510        0.00080   1.422819  0.000001   \n",
       "4     9  AS Cam         40204.39610        0.00040   3.430970       NaN   \n",
       "..  ...            ...          ...  ...       ...        ...       ...   \n",
       "69  NaN      V1647 Sgr          NaN  NaN       NaN   3.283000       NaN   \n",
       "70  NaN         AO Vel          NaN  NaN       NaN   1.585000       NaN   \n",
       "71  NaN         DR Vul          NaN  NaN       NaN   2.251000       NaN   \n",
       "72  NaN        HV 2274          NaN  NaN       NaN   5.730000       NaN   \n",
       "73  NaN      NSV 18773          NaN  NaN       NaN   5.049000       NaN   \n",
       "\n",
       "             Pa         e_Pa  l_e  ...     logm1     logm2     logT1  \\\n",
       "0    6.71971200   0.00000300       ...       NaN       NaN  3.809560   \n",
       "1   11.12080760   0.00000250       ...       NaN       NaN  3.999000   \n",
       "2    3.16925520   0.00000120       ...       NaN       NaN  4.258038   \n",
       "3                                  ...       NaN       NaN  3.845098   \n",
       "4    3.43098649   0.00000014       ...       NaN       NaN  4.060698   \n",
       "..          ...          ...  ...  ...       ...       ...       ...   \n",
       "69          NaN          NaN  NaN  ...  0.340444  0.294466  3.982000   \n",
       "70          NaN          NaN  NaN  ...  0.643453  0.556303  4.161000   \n",
       "71          NaN          NaN  NaN  ...  1.120574  1.082785  4.462000   \n",
       "72          NaN          NaN  NaN  ...  1.086360  1.056905  4.362000   \n",
       "73          NaN          NaN  NaN  ...  1.301030  1.146128  4.498000   \n",
       "\n",
       "       logT2 logAge_interp_1 logAge_interp_2  MH_interp_1  MH_interp_2  \\\n",
       "0   3.802774        8.609380        8.189046     0.380236    -0.003186   \n",
       "1   3.974005        8.373874        8.165440     0.029757     0.146808   \n",
       "2   4.232996        8.004320        8.158339    -1.649236    -1.276044   \n",
       "3   3.792392        8.004320        8.510949    -2.000000     0.474007   \n",
       "4   4.000000        8.879759        8.628059    -1.747197    -0.376220   \n",
       "..       ...             ...             ...          ...          ...   \n",
       "69  3.959000        8.521277        8.939109    -0.125000    -0.569444   \n",
       "70  3.892000        6.281720        8.673432    -1.670494    -0.140000   \n",
       "71  4.447000        6.000000        6.000000     0.239051     0.087030   \n",
       "72  4.364000        7.096299        7.142003    -0.756809    -0.783447   \n",
       "73  4.431000        6.000000        6.000000     0.465087     0.345321   \n",
       "\n",
       "      logAge        MH  \n",
       "0   8.399213  0.188525  \n",
       "1   8.269657  0.088282  \n",
       "2   8.081329 -1.462640  \n",
       "3   8.257634 -0.762996  \n",
       "4   8.753909 -1.061708  \n",
       "..       ...       ...  \n",
       "69  8.730193 -0.347222  \n",
       "70  7.477576 -0.905247  \n",
       "71  6.000000  0.163041  \n",
       "72  7.119151 -0.770128  \n",
       "73  6.000000  0.405204  \n",
       "\n",
       "[74 rows x 63 columns]>"
      ]
     },
     "execution_count": 84,
     "metadata": {},
     "output_type": "execute_result"
    }
   ],
   "source": [
    "dfc.count"
   ]
  },
  {
   "cell_type": "code",
   "execution_count": 85,
   "id": "a98d2307",
   "metadata": {},
   "outputs": [
    {
     "data": {
      "image/png": "[encoded data removed]",
      "text/plain": [
       "<Figure size 600x500 with 1 Axes>"
      ]
     },
     "metadata": {},
     "output_type": "display_data"
    }
   ],
   "source": [
    "#generate the plot\n",
    "plt.figure(figsize=(6,5))\n",
    "plt.scatter(np.log10(xsys), wrsyn)\n",
    "plt.xlabel(r'$\\log_{10}(t / t_{\\rm syn})$')\n",
    "plt.ylabel(r'$\\omega_r / \\omega_{\\rm syn}$')\n",
    "plt.tight_layout()\n",
    "plt.show()"
   ]
  },
  {
   "cell_type": "code",
   "execution_count": 86,
   "id": "780b1d98",
   "metadata": {},
   "outputs": [
    {
     "data": {
      "image/png": "[encoded data removed]",
      "text/plain": [
       "<Figure size 600x500 with 1 Axes>"
      ]
     },
     "metadata": {},
     "output_type": "display_data"
    }
   ],
   "source": [
    "newx = new_x(a, R1*u.R_sun, R2*u.R_sun, PUrot, Asum).to_value('')\n",
    "plt.figure(figsize=(6,5))\n",
    "plt.scatter(newx, wrsyn)\n",
    "plt.xlabel('a / R_1+R_2')\n",
    "plt.ylabel(r'$\\omega_r / \\omega_{\\rm syn}$')\n",
    "plt.tight_layout()\n",
    "plt.xlim(1.5,6)\n",
    "plt.show()"
   ]
  },
  {
   "cell_type": "code",
   "execution_count": 87,
   "id": "b118d98a",
   "metadata": {},
   "outputs": [
    {
     "data": {
      "image/png": "[encoded data removed]",
      "text/plain": [
       "<Figure size 600x500 with 1 Axes>"
      ]
     },
     "metadata": {},
     "output_type": "display_data"
    }
   ],
   "source": [
    "plt.figure(figsize=(6,5))\n",
    "plt.scatter(np.log10(xsys), U_Usyn)\n",
    "plt.xlabel(r'$\\log_{10}(t / t_{\\rm syn})$')\n",
    "plt.ylabel('U/Usyn')\n",
    "plt.tight_layout()\n",
    "plt.show()"
   ]
  },
  {
   "cell_type": "code",
   "execution_count": null,
   "id": "93afdd09",
   "metadata": {},
   "outputs": [],
   "source": []
  },
  {
   "cell_type": "code",
   "execution_count": null,
   "id": "e18d5024",
   "metadata": {},
   "outputs": [],
   "source": []
  }
 ],
 "metadata": {
  "kernelspec": {
   "display_name": "Python 3 (ipykernel)",
   "language": "python",
   "name": "python3"
  },
  "language_info": {
   "codemirror_mode": {
    "name": "ipython",
    "version": 3
   },
   "file_extension": ".py",
   "mimetype": "text/x-python",
   "name": "python",
   "nbconvert_exporter": "python",
   "pygments_lexer": "ipython3",
   "version": "3.9.13"
  }
 },
 "nbformat": 4,
 "nbformat_minor": 5
}
